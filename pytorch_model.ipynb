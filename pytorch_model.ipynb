{
 "cells": [
  {
   "cell_type": "markdown",
   "id": "6324c9e3",
   "metadata": {},
   "source": [
    "## TensorFlow model generation\n",
    "\n",
    "This is a regular notebook structure - run each cell in order"
   ]
  },
  {
   "cell_type": "code",
   "execution_count": 2,
   "id": "8f12d423",
   "metadata": {},
   "outputs": [],
   "source": [
    "import os, random, pickle\n",
    "import numpy as np\n",
    "import torch\n",
    "import torch.nn as nn\n",
    "from torch.utils.data import TensorDataset, DataLoader\n",
    "\n",
    "from shared_project_functions import get_target_subdirectory"
   ]
  },
  {
   "cell_type": "code",
   "execution_count": 16,
   "id": "cf26b2c6",
   "metadata": {},
   "outputs": [
    {
     "name": "stdout",
     "output_type": "stream",
     "text": [
      "Device: cuda\n"
     ]
    }
   ],
   "source": [
    "# Reproducibility (good default)\n",
    "SEED = 42\n",
    "random.seed(SEED); np.random.seed(SEED); torch.manual_seed(SEED)\n",
    "if torch.cuda.is_available():\n",
    "    torch.cuda.manual_seed_all(SEED)\n",
    "\n",
    "device = torch.device(\"cuda\" if torch.cuda.is_available() else \"cpu\")\n",
    "print(\"Device:\", device)\n",
    "\n",
    "# cuDNN autotune: on for fixed shapes (turn off if seq lens vary)\n",
    "torch.backends.cudnn.benchmark = True"
   ]
  },
  {
   "cell_type": "markdown",
   "id": "660cb6b7",
   "metadata": {},
   "source": [
    "### Preprocessed data loading\n",
    "\n",
    "Provide model name - must be the same as what you used in preprocessing step"
   ]
  },
  {
   "cell_type": "code",
   "execution_count": 3,
   "id": "4fcb6885",
   "metadata": {},
   "outputs": [],
   "source": [
    "base_corpus = \"shakespeare\"\n",
    "\n",
    "dir = get_target_subdirectory(base_corpus, subdir_string=\"model\")\n",
    "\n",
    "#Load preprocessed data from subdirectory\n",
    "with open(f\"{dir}/{base_corpus}_preprocessed_data.pkl\", \"rb\") as f:\n",
    "    data = pickle.load(f)\n",
    "    X_train = data[\"X_train\"]\n",
    "    y_train = data[\"y_train\"]\n",
    "    word_to_id = data[\"word_to_id\"]\n",
    "    id_to_word = data[\"id_to_word\"],\n",
    "    max_seq_length = data[\"max_seq_length\"]"
   ]
  },
  {
   "cell_type": "code",
   "execution_count": 8,
   "id": "453cb234",
   "metadata": {},
   "outputs": [
    {
     "name": "stdout",
     "output_type": "stream",
     "text": [
      "CUDA is available:  True\n",
      "Number of CUDA devices:  1\n",
      "Current CUDA device number:  0\n",
      "Current CUDA device name:  NVIDIA GeForce GTX 1070 Ti\n",
      "Device chossen: cuda\n"
     ]
    }
   ],
   "source": [
    "# Check and choose devices\n",
    "print(\"CUDA is available: \", torch.cuda.is_available())\n",
    "if torch.cuda.is_available:\n",
    "    print(\"Number of CUDA devices: \", torch.cuda.device_count())\n",
    "    print(\"Current CUDA device number: \", torch.cuda.current_device())\n",
    "    print(\"Current CUDA device name: \", torch.cuda.get_device_name(0))\n",
    "\n",
    "\n",
    "device = torch.device(\"cuda\" if torch.cuda.is_available() else \"cpu\")\n",
    "print(\"Device chossen:\", device)"
   ]
  },
  {
   "cell_type": "code",
   "execution_count": 9,
   "id": "47a777c7",
   "metadata": {},
   "outputs": [],
   "source": [
    "# Hyperparameters\n",
    "vocab_size      = len(word_to_id)     # from your preprocessing\n",
    "embedding_dim   = 256\n",
    "rnn_units       = 1024\n",
    "dropout         = 0.2\n",
    "max_seq_length  = max_seq_length      # from your preprocessing\n",
    "batch_size      = 128\n",
    "epochs          = 10\n",
    "base_corpus     = base_corpus         # e.g., \"shakespeare\""
   ]
  },
  {
   "cell_type": "code",
   "execution_count": 10,
   "id": "63dc9e9b",
   "metadata": {},
   "outputs": [
    {
     "name": "stderr",
     "output_type": "stream",
     "text": [
      "/tmp/ipykernel_16150/1640063483.py:4: DeprecationWarning: __array__ implementation doesn't accept a copy keyword, so passing copy=False failed. __array__ must implement 'dtype' and 'copy' keyword arguments. To learn more, see the migration guide https://numpy.org/devdocs/numpy_2_0_migration_guide.html#adapting-to-changes-in-the-copy-keyword\n",
      "  y_train_np = np.array(y_train, dtype=np.int64)\n"
     ]
    },
    {
     "data": {
      "text/plain": [
       "(1100120, torch.Size([128, 20]))"
      ]
     },
     "execution_count": 10,
     "metadata": {},
     "output_type": "execute_result"
    }
   ],
   "source": [
    "# Data conversion: Numpy → Torch tensors → DataLoader\n",
    "# Expect: X_train shape (N, max_seq_length) of int ids; y_train shape (N,) of int class ids\n",
    "x_train_np = np.array(X_train, dtype=np.int64)\n",
    "y_train_np = np.array(y_train, dtype=np.int64)\n",
    "\n",
    "x_train = torch.tensor(x_train_np, dtype=torch.long)\n",
    "y_train = torch.tensor(y_train_np, dtype=torch.long)\n",
    "\n",
    "train_ds = TensorDataset(x_train, y_train)\n",
    "\n",
    "num_workers = min(4, os.cpu_count() or 1)\n",
    "pin = torch.cuda.is_available()\n",
    "\n",
    "train_loader = DataLoader(\n",
    "    train_ds,\n",
    "    batch_size=batch_size,\n",
    "    shuffle=True,\n",
    "    num_workers=num_workers,\n",
    "    pin_memory=pin,\n",
    "    persistent_workers=bool(num_workers)\n",
    ")\n",
    "\n",
    "len(train_ds), next(iter(train_loader))[0].shape"
   ]
  },
  {
   "cell_type": "code",
   "execution_count": 13,
   "id": "9231e8e7",
   "metadata": {},
   "outputs": [
    {
     "name": "stdout",
     "output_type": "stream",
     "text": [
      "Parameters: total=36,612,359 trainable=36,612,359\n"
     ]
    }
   ],
   "source": [
    "# Model\n",
    "class TextLSTM(nn.Module):\n",
    "    def __init__(self, vocab_size, embedding_dim, rnn_units, dropout):\n",
    "        super().__init__()\n",
    "        self.embedding = nn.Embedding(vocab_size, embedding_dim)\n",
    "        self.lstm1 = nn.LSTM(input_size=embedding_dim, hidden_size=rnn_units, batch_first=True)\n",
    "        self.dropout1 = nn.Dropout(dropout)\n",
    "        self.lstm2 = nn.LSTM(input_size=rnn_units, hidden_size=rnn_units, batch_first=True)\n",
    "        self.dropout2 = nn.Dropout(dropout)\n",
    "        self.fc = nn.Linear(rnn_units, vocab_size)  # logits over vocab (no softmax)\n",
    "\n",
    "    def forward(self, x):\n",
    "        x = self.embedding(x)                 # (B, T, E)\n",
    "        x, _ = self.lstm1(x)                  # (B, T, H)\n",
    "        x = self.dropout1(x)\n",
    "        x, (h_n, _) = self.lstm2(x)          # h_n: (1, B, H)\n",
    "        last_hidden = h_n[-1]                 # (B, H) — matches Keras final LSTM output\n",
    "        last_hidden = self.dropout2(last_hidden)\n",
    "        return self.fc(last_hidden)           # (B, vocab)\n",
    "\n",
    "model = TextLSTM(vocab_size, embedding_dim, rnn_units, dropout).to(device)\n",
    "\n",
    "# Info\n",
    "total_params = sum(p.numel() for p in model.parameters())\n",
    "trainable_params = sum(p.numel() for p in model.parameters() if p.requires_grad)\n",
    "print(f\"Parameters: total={total_params:,} trainable={trainable_params:,}\")"
   ]
  },
  {
   "cell_type": "code",
   "execution_count": 18,
   "id": "ea46d912",
   "metadata": {},
   "outputs": [],
   "source": [
    "# Optimizer & loss (Keras compile analog)\n",
    "optimizer = torch.optim.Adam(model.parameters(), lr=1e-3)\n",
    "criterion = nn.CrossEntropyLoss()  # expects raw logits + integer class targets"
   ]
  },
  {
   "cell_type": "code",
   "execution_count": 20,
   "id": "2d7fba02",
   "metadata": {},
   "outputs": [],
   "source": [
    "# Train function (Keras-like)\n",
    "def fit(model, loader, optimizer, criterion, epochs=10, device=\"cpu\",\n",
    "        grad_clip=None, use_tqdm=True, log_interval=50):\n",
    "    \"\"\"\n",
    "    Trains the model and returns a Keras-like history dict.\n",
    "    - Shows \"Epoch i/n\" and an in-epoch progress bar (if tqdm available).\n",
    "    - Updates the bar with running loss & accuracy.\n",
    "    - Falls back to periodic prints if tqdm isn't installed.\n",
    "    \"\"\"\n",
    "    try:\n",
    "        from tqdm.auto import tqdm\n",
    "    except Exception:\n",
    "        tqdm = None\n",
    "        use_tqdm = False\n",
    "\n",
    "    history = {\"loss\": [], \"accuracy\": []}\n",
    "    num_batches = len(loader)\n",
    "\n",
    "    for epoch in range(1, epochs + 1):\n",
    "        model.train()\n",
    "        running_loss = 0.0\n",
    "        correct = 0\n",
    "        total = 0\n",
    "\n",
    "        if use_tqdm and tqdm is not None:\n",
    "            pbar = tqdm(total=num_batches, desc=f\"Epoch {epoch}/{epochs}\",\n",
    "                        leave=True, dynamic_ncols=True)\n",
    "        else:\n",
    "            print(f\"\\nEpoch {epoch}/{epochs}\")\n",
    "\n",
    "        for step, (xb, yb) in enumerate(loader, start=1):\n",
    "            xb = xb.to(device, non_blocking=True)\n",
    "            yb = yb.to(device, non_blocking=True)\n",
    "\n",
    "            optimizer.zero_grad(set_to_none=True)\n",
    "            logits = model(xb)\n",
    "            loss = criterion(logits, yb)\n",
    "            loss.backward()\n",
    "            if grad_clip is not None:\n",
    "                torch.nn.utils.clip_grad_norm_(model.parameters(), grad_clip)\n",
    "            optimizer.step()\n",
    "\n",
    "            # running stats\n",
    "            bs = yb.size(0)\n",
    "            running_loss += loss.item() * bs\n",
    "            preds = logits.argmax(1)\n",
    "            correct += (preds == yb).sum().item()\n",
    "            total += bs\n",
    "\n",
    "            avg_loss = running_loss / max(total, 1)\n",
    "            avg_acc  = correct / max(total, 1)\n",
    "            # (optional) current LR (assumes one param group)\n",
    "            lr = optimizer.param_groups[0].get(\"lr\", None)\n",
    "\n",
    "            if use_tqdm and tqdm is not None:\n",
    "                if lr is None:\n",
    "                    pbar.set_postfix(loss=f\"{avg_loss:.4f}\", acc=f\"{avg_acc:.4f}\")\n",
    "                else:\n",
    "                    pbar.set_postfix(loss=f\"{avg_loss:.4f}\", acc=f\"{avg_acc:.4f}\", lr=f\"{lr:.2e}\")\n",
    "                pbar.update(1)\n",
    "            else:\n",
    "                # plain prints every log_interval steps and at the end\n",
    "                if (step % log_interval == 0) or (step == num_batches):\n",
    "                    pct = 100.0 * step / num_batches\n",
    "                    if lr is None:\n",
    "                        print(f\"  [{step:>5}/{num_batches}] {pct:6.2f}%  \"\n",
    "                              f\"loss={avg_loss:.4f}  acc={avg_acc:.4f}\")\n",
    "                    else:\n",
    "                        print(f\"  [{step:>5}/{num_batches}] {pct:6.2f}%  \"\n",
    "                              f\"loss={avg_loss:.4f}  acc={avg_acc:.4f}  lr={lr:.2e}\")\n",
    "\n",
    "        # end epoch\n",
    "        epoch_loss = running_loss / max(total, 1)\n",
    "        epoch_acc  = correct / max(total, 1)\n",
    "        history[\"loss\"].append(epoch_loss)\n",
    "        history[\"accuracy\"].append(epoch_acc)\n",
    "\n",
    "        if use_tqdm and tqdm is not None:\n",
    "            pbar.close()\n",
    "        # Final epoch summary line (useful even with tqdm)\n",
    "        print(f\"Epoch {epoch}/{epochs} — loss: {epoch_loss:.4f} — acc: {epoch_acc:.4f}\")\n",
    "\n",
    "    return history\n",
    "\n"
   ]
  },
  {
   "cell_type": "code",
   "execution_count": 21,
   "id": "4795d045",
   "metadata": {},
   "outputs": [
    {
     "name": "stderr",
     "output_type": "stream",
     "text": [
      "/home/alvisngan/Documents/george_brown/math_dl/AASD4011_term_project/.venv/lib/python3.13/site-packages/tqdm/auto.py:21: TqdmWarning: IProgress not found. Please update jupyter and ipywidgets. See https://ipywidgets.readthedocs.io/en/stable/user_install.html\n",
      "  from .autonotebook import tqdm as notebook_tqdm\n",
      "Epoch 1/10: 100%|██████████| 8595/8595 [09:56<00:00, 14.40it/s, acc=0.1615, loss=5.6016, lr=1.00e-03]\n"
     ]
    },
    {
     "name": "stdout",
     "output_type": "stream",
     "text": [
      "Epoch 1/10 — loss: 5.6016 — acc: 0.1615\n"
     ]
    },
    {
     "name": "stderr",
     "output_type": "stream",
     "text": [
      "Epoch 2/10: 100%|██████████| 8595/8595 [09:55<00:00, 14.42it/s, acc=0.1845, loss=5.2405, lr=1.00e-03]\n"
     ]
    },
    {
     "name": "stdout",
     "output_type": "stream",
     "text": [
      "Epoch 2/10 — loss: 5.2405 — acc: 0.1845\n"
     ]
    },
    {
     "name": "stderr",
     "output_type": "stream",
     "text": [
      "Epoch 3/10: 100%|██████████| 8595/8595 [09:55<00:00, 14.43it/s, acc=0.1937, loss=5.0747, lr=1.00e-03]\n"
     ]
    },
    {
     "name": "stdout",
     "output_type": "stream",
     "text": [
      "Epoch 3/10 — loss: 5.0747 — acc: 0.1937\n"
     ]
    },
    {
     "name": "stderr",
     "output_type": "stream",
     "text": [
      "Epoch 4/10: 100%|██████████| 8595/8595 [09:56<00:00, 14.42it/s, acc=0.2005, loss=4.9516, lr=1.00e-03]\n"
     ]
    },
    {
     "name": "stdout",
     "output_type": "stream",
     "text": [
      "Epoch 4/10 — loss: 4.9516 — acc: 0.2005\n"
     ]
    },
    {
     "name": "stderr",
     "output_type": "stream",
     "text": [
      "Epoch 5/10: 100%|██████████| 8595/8595 [09:55<00:00, 14.42it/s, acc=0.2065, loss=4.8462, lr=1.00e-03]\n"
     ]
    },
    {
     "name": "stdout",
     "output_type": "stream",
     "text": [
      "Epoch 5/10 — loss: 4.8462 — acc: 0.2065\n"
     ]
    },
    {
     "name": "stderr",
     "output_type": "stream",
     "text": [
      "Epoch 6/10: 100%|██████████| 8595/8595 [09:56<00:00, 14.42it/s, acc=0.2121, loss=4.7498, lr=1.00e-03]\n"
     ]
    },
    {
     "name": "stdout",
     "output_type": "stream",
     "text": [
      "Epoch 6/10 — loss: 4.7498 — acc: 0.2121\n"
     ]
    },
    {
     "name": "stderr",
     "output_type": "stream",
     "text": [
      "Epoch 7/10: 100%|██████████| 8595/8595 [09:56<00:00, 14.42it/s, acc=0.2172, loss=4.6578, lr=1.00e-03]\n"
     ]
    },
    {
     "name": "stdout",
     "output_type": "stream",
     "text": [
      "Epoch 7/10 — loss: 4.6578 — acc: 0.2172\n"
     ]
    },
    {
     "name": "stderr",
     "output_type": "stream",
     "text": [
      "Epoch 8/10: 100%|██████████| 8595/8595 [09:53<00:00, 14.47it/s, acc=0.2225, loss=4.5718, lr=1.00e-03]\n"
     ]
    },
    {
     "name": "stdout",
     "output_type": "stream",
     "text": [
      "Epoch 8/10 — loss: 4.5718 — acc: 0.2225\n"
     ]
    },
    {
     "name": "stderr",
     "output_type": "stream",
     "text": [
      "Epoch 9/10: 100%|██████████| 8595/8595 [09:53<00:00, 14.49it/s, acc=0.2273, loss=4.4936, lr=1.00e-03]\n"
     ]
    },
    {
     "name": "stdout",
     "output_type": "stream",
     "text": [
      "Epoch 9/10 — loss: 4.4936 — acc: 0.2273\n"
     ]
    },
    {
     "name": "stderr",
     "output_type": "stream",
     "text": [
      "Epoch 10/10: 100%|██████████| 8595/8595 [09:57<00:00, 14.40it/s, acc=0.2320, loss=4.4197, lr=1.00e-03]"
     ]
    },
    {
     "name": "stdout",
     "output_type": "stream",
     "text": [
      "Epoch 10/10 — loss: 4.4197 — acc: 0.2320\n"
     ]
    },
    {
     "name": "stderr",
     "output_type": "stream",
     "text": [
      "\n"
     ]
    }
   ],
   "source": [
    "# Run training\n",
    "history = fit(\n",
    "    model=model,\n",
    "    loader=train_loader,\n",
    "    optimizer=optimizer,\n",
    "    criterion=criterion,\n",
    "    epochs=epochs,\n",
    "    device=device,\n",
    "    grad_clip=None  # e.g., set to 1.0 if you see exploding grads\n",
    ")"
   ]
  },
  {
   "cell_type": "code",
   "execution_count": 22,
   "id": "82f8c747",
   "metadata": {},
   "outputs": [
    {
     "data": {
      "image/png": "[encoded data removed]",
      "text/plain": [
       "<Figure size 640x480 with 1 Axes>"
      ]
     },
     "metadata": {},
     "output_type": "display_data"
    }
   ],
   "source": [
    "# Cell 8 — Plot training curves (optional)\n",
    "import matplotlib.pyplot as plt\n",
    "\n",
    "plt.figure()\n",
    "plt.plot(history[\"loss\"], label=\"loss\")\n",
    "plt.plot(history[\"accuracy\"], label=\"accuracy\")\n",
    "plt.xlabel(\"epoch\"); plt.legend(); plt.title(\"Training history\")\n",
    "plt.show()"
   ]
  },
  {
   "cell_type": "code",
   "execution_count": 23,
   "id": "a4d21ed7",
   "metadata": {},
   "outputs": [
    {
     "name": "stdout",
     "output_type": "stream",
     "text": [
      "Saved: shakespeare_model.pt and shakespeare_training_history.pkl\n"
     ]
    }
   ],
   "source": [
    "# Cell 9 — Save artifacts\n",
    "model_path = f\"{base_corpus}_model.pt\"\n",
    "hist_path  = f\"{base_corpus}_training_history.pkl\"\n",
    "\n",
    "torch.save(model.state_dict(), model_path)\n",
    "with open(hist_path, \"wb\") as f:\n",
    "    pickle.dump(history, f)\n",
    "\n",
    "print(\"Saved:\", model_path, \"and\", hist_path)"
   ]
  },
  {
   "cell_type": "code",
   "execution_count": 14,
   "id": "797824a6",
   "metadata": {},
   "outputs": [],
   "source": [
    "# Define model\n",
    "\n",
    "# from tensorflow.keras.models import Sequential\n",
    "# from tensorflow.keras.layers import Embedding, LSTM, Dense, Dropout\n",
    "\n",
    "# # Model hyperparameters\n",
    "# vocab_size = len(word_to_id)\n",
    "# embedding_dim = 256  # The size of the word vectors\n",
    "# rnn_units = 1024     # The number of units in the LSTM layer\n",
    "# dropout = 0.2       # Dropout rate for regularization\n",
    "\n",
    "# model = Sequential([\n",
    "#     # Embedding layer: Converts integer IDs to dense vectors\n",
    "#     Embedding(input_dim=vocab_size,\n",
    "#               output_dim=embedding_dim,\n",
    "#               input_length=max_seq_length),\n",
    "\n",
    "#     # LSTM layer: The core of the model for learning sequence patterns\n",
    "#     LSTM(rnn_units, return_sequences=True),\n",
    "#     Dropout(dropout), # Dropout for regularization\n",
    "\n",
    "#     LSTM(rnn_units),\n",
    "#     Dropout(dropout), # Another dropout layer\n",
    "\n",
    "#     # Dense layer: Maps the LSTM output to the vocabulary\n",
    "#     Dense(vocab_size, activation='softmax')\n",
    "# ])"
   ]
  },
  {
   "cell_type": "code",
   "execution_count": 15,
   "id": "c64ceee5",
   "metadata": {},
   "outputs": [
    {
     "data": {
      "text/html": [
       "<pre style=\"white-space:pre;overflow-x:auto;line-height:normal;font-family:Menlo,'DejaVu Sans Mono',consolas,'Courier New',monospace\"><span style=\"font-weight: bold\">Model: \"sequential_1\"</span>\n",
       "</pre>\n"
      ],
      "text/plain": [
       "\u001b[1mModel: \"sequential_1\"\u001b[0m\n"
      ]
     },
     "metadata": {},
     "output_type": "display_data"
    },
    {
     "data": {
      "text/html": [
       "<pre style=\"white-space:pre;overflow-x:auto;line-height:normal;font-family:Menlo,'DejaVu Sans Mono',consolas,'Courier New',monospace\">┏━━━━━━━━━━━━━━━━━━━━━━━━━━━━━━━━━┳━━━━━━━━━━━━━━━━━━━━━━━━┳━━━━━━━━━━━━━━━┓\n",
       "┃<span style=\"font-weight: bold\"> Layer (type)                    </span>┃<span style=\"font-weight: bold\"> Output Shape           </span>┃<span style=\"font-weight: bold\">       Param # </span>┃\n",
       "┡━━━━━━━━━━━━━━━━━━━━━━━━━━━━━━━━━╇━━━━━━━━━━━━━━━━━━━━━━━━╇━━━━━━━━━━━━━━━┩\n",
       "│ embedding_1 (<span style=\"color: #0087ff; text-decoration-color: #0087ff\">Embedding</span>)         │ ?                      │   <span style=\"color: #00af00; text-decoration-color: #00af00\">0</span> (unbuilt) │\n",
       "├─────────────────────────────────┼────────────────────────┼───────────────┤\n",
       "│ lstm_2 (<span style=\"color: #0087ff; text-decoration-color: #0087ff\">LSTM</span>)                   │ ?                      │   <span style=\"color: #00af00; text-decoration-color: #00af00\">0</span> (unbuilt) │\n",
       "├─────────────────────────────────┼────────────────────────┼───────────────┤\n",
       "│ dropout_2 (<span style=\"color: #0087ff; text-decoration-color: #0087ff\">Dropout</span>)             │ ?                      │             <span style=\"color: #00af00; text-decoration-color: #00af00\">0</span> │\n",
       "├─────────────────────────────────┼────────────────────────┼───────────────┤\n",
       "│ lstm_3 (<span style=\"color: #0087ff; text-decoration-color: #0087ff\">LSTM</span>)                   │ ?                      │   <span style=\"color: #00af00; text-decoration-color: #00af00\">0</span> (unbuilt) │\n",
       "├─────────────────────────────────┼────────────────────────┼───────────────┤\n",
       "│ dropout_3 (<span style=\"color: #0087ff; text-decoration-color: #0087ff\">Dropout</span>)             │ ?                      │             <span style=\"color: #00af00; text-decoration-color: #00af00\">0</span> │\n",
       "├─────────────────────────────────┼────────────────────────┼───────────────┤\n",
       "│ dense_1 (<span style=\"color: #0087ff; text-decoration-color: #0087ff\">Dense</span>)                 │ ?                      │   <span style=\"color: #00af00; text-decoration-color: #00af00\">0</span> (unbuilt) │\n",
       "└─────────────────────────────────┴────────────────────────┴───────────────┘\n",
       "</pre>\n"
      ],
      "text/plain": [
       "┏━━━━━━━━━━━━━━━━━━━━━━━━━━━━━━━━━┳━━━━━━━━━━━━━━━━━━━━━━━━┳━━━━━━━━━━━━━━━┓\n",
       "┃\u001b[1m \u001b[0m\u001b[1mLayer (type)                   \u001b[0m\u001b[1m \u001b[0m┃\u001b[1m \u001b[0m\u001b[1mOutput Shape          \u001b[0m\u001b[1m \u001b[0m┃\u001b[1m \u001b[0m\u001b[1m      Param #\u001b[0m\u001b[1m \u001b[0m┃\n",
       "┡━━━━━━━━━━━━━━━━━━━━━━━━━━━━━━━━━╇━━━━━━━━━━━━━━━━━━━━━━━━╇━━━━━━━━━━━━━━━┩\n",
       "│ embedding_1 (\u001b[38;5;33mEmbedding\u001b[0m)         │ ?                      │   \u001b[38;5;34m0\u001b[0m (unbuilt) │\n",
       "├─────────────────────────────────┼────────────────────────┼───────────────┤\n",
       "│ lstm_2 (\u001b[38;5;33mLSTM\u001b[0m)                   │ ?                      │   \u001b[38;5;34m0\u001b[0m (unbuilt) │\n",
       "├─────────────────────────────────┼────────────────────────┼───────────────┤\n",
       "│ dropout_2 (\u001b[38;5;33mDropout\u001b[0m)             │ ?                      │             \u001b[38;5;34m0\u001b[0m │\n",
       "├─────────────────────────────────┼────────────────────────┼───────────────┤\n",
       "│ lstm_3 (\u001b[38;5;33mLSTM\u001b[0m)                   │ ?                      │   \u001b[38;5;34m0\u001b[0m (unbuilt) │\n",
       "├─────────────────────────────────┼────────────────────────┼───────────────┤\n",
       "│ dropout_3 (\u001b[38;5;33mDropout\u001b[0m)             │ ?                      │             \u001b[38;5;34m0\u001b[0m │\n",
       "├─────────────────────────────────┼────────────────────────┼───────────────┤\n",
       "│ dense_1 (\u001b[38;5;33mDense\u001b[0m)                 │ ?                      │   \u001b[38;5;34m0\u001b[0m (unbuilt) │\n",
       "└─────────────────────────────────┴────────────────────────┴───────────────┘\n"
      ]
     },
     "metadata": {},
     "output_type": "display_data"
    },
    {
     "data": {
      "text/html": [
       "<pre style=\"white-space:pre;overflow-x:auto;line-height:normal;font-family:Menlo,'DejaVu Sans Mono',consolas,'Courier New',monospace\"><span style=\"font-weight: bold\"> Total params: </span><span style=\"color: #00af00; text-decoration-color: #00af00\">0</span> (0.00 B)\n",
       "</pre>\n"
      ],
      "text/plain": [
       "\u001b[1m Total params: \u001b[0m\u001b[38;5;34m0\u001b[0m (0.00 B)\n"
      ]
     },
     "metadata": {},
     "output_type": "display_data"
    },
    {
     "data": {
      "text/html": [
       "<pre style=\"white-space:pre;overflow-x:auto;line-height:normal;font-family:Menlo,'DejaVu Sans Mono',consolas,'Courier New',monospace\"><span style=\"font-weight: bold\"> Trainable params: </span><span style=\"color: #00af00; text-decoration-color: #00af00\">0</span> (0.00 B)\n",
       "</pre>\n"
      ],
      "text/plain": [
       "\u001b[1m Trainable params: \u001b[0m\u001b[38;5;34m0\u001b[0m (0.00 B)\n"
      ]
     },
     "metadata": {},
     "output_type": "display_data"
    },
    {
     "data": {
      "text/html": [
       "<pre style=\"white-space:pre;overflow-x:auto;line-height:normal;font-family:Menlo,'DejaVu Sans Mono',consolas,'Courier New',monospace\"><span style=\"font-weight: bold\"> Non-trainable params: </span><span style=\"color: #00af00; text-decoration-color: #00af00\">0</span> (0.00 B)\n",
       "</pre>\n"
      ],
      "text/plain": [
       "\u001b[1m Non-trainable params: \u001b[0m\u001b[38;5;34m0\u001b[0m (0.00 B)\n"
      ]
     },
     "metadata": {},
     "output_type": "display_data"
    }
   ],
   "source": [
    "# # Compile model\n",
    "# from tensorflow.keras.optimizers import Adam, RMSprop, SGD\n",
    "# from tensorflow.keras.losses import SparseCategoricalCrossentropy, MeanSquaredError\n",
    "\n",
    "# model.compile(\n",
    "#     optimizer=Adam(learning_rate=0.001),\n",
    "#     loss=SparseCategoricalCrossentropy(),\n",
    "#     metrics=['accuracy']\n",
    "# )\n",
    "\n",
    "# # Print a summary of model to see layers and parameter count\n",
    "# model.summary()"
   ]
  },
  {
   "cell_type": "code",
   "execution_count": 16,
   "id": "8c5652ed",
   "metadata": {},
   "outputs": [
    {
     "name": "stdout",
     "output_type": "stream",
     "text": [
      "Epoch 1/10\n"
     ]
    },
    {
     "name": "stderr",
     "output_type": "stream",
     "text": [
      "E0000 00:00:1758040683.880033    3654 dnn.cc:935] CUDNN_STATUS_EXECUTION_FAILED\n",
      "in external/local_xla/xla/stream_executor/cuda/cuda_dnn.cc(2039): 'cudnnRNNForward( cudnn.handle(), rnn_desc.handle(), rnn_fwd_mode, reinterpret_cast<const int*>(seq_lengths_data.opaque()), input_desc.data_handle(), input_data.opaque(), output_desc.data_handle(), output_data->opaque(), input_h_desc.handle(), input_h_data.opaque(), output_h_data->opaque(), input_c_desc.handle(), input_c_data.opaque(), output_c_data->opaque(), rnn_desc.ParamsSizeInBytes(), params.opaque(), workspace.size(), workspace.opaque(), reserve_space.size(), reserve_space.opaque())'\n",
      "2025-09-16 12:38:03.880070: W tensorflow/core/framework/op_kernel.cc:1855] OP_REQUIRES failed at cudnn_rnn_ops.cc:1776 : INTERNAL: Failed to call DoRnnForward with model config: [rnn_mode, rnn_input_mode, rnn_direction_mode]: 2, 0, 0 , [num_layers, input_size, num_units, dir_count, max_seq_length, batch_size, cell_num_units]: [1, 256, 1024, 1, 20, 128, 1024] \n",
      "2025-09-16 12:38:03.880093: I tensorflow/core/framework/local_rendezvous.cc:407] Local rendezvous is aborting with status: INTERNAL: Failed to call DoRnnForward with model config: [rnn_mode, rnn_input_mode, rnn_direction_mode]: 2, 0, 0 , [num_layers, input_size, num_units, dir_count, max_seq_length, batch_size, cell_num_units]: [1, 256, 1024, 1, 20, 128, 1024] \n",
      "\t [[{{function_node __inference_one_step_on_data_6299}}{{node sequential_1_1/lstm_2_1/CudnnRNNV3}}]]\n"
     ]
    },
    {
     "ename": "InternalError",
     "evalue": "Graph execution error:\n\nDetected at node sequential_1_1/lstm_2_1/CudnnRNNV3 defined at (most recent call last):\n  File \"<frozen runpy>\", line 198, in _run_module_as_main\n\n  File \"<frozen runpy>\", line 88, in _run_code\n\n  File \"/home/alvisngan/Documents/george_brown/math_dl/AASD4011_term_project/.venv/lib/python3.13/site-packages/ipykernel_launcher.py\", line 18, in <module>\n\n  File \"/home/alvisngan/Documents/george_brown/math_dl/AASD4011_term_project/.venv/lib/python3.13/site-packages/traitlets/config/application.py\", line 1075, in launch_instance\n\n  File \"/home/alvisngan/Documents/george_brown/math_dl/AASD4011_term_project/.venv/lib/python3.13/site-packages/ipykernel/kernelapp.py\", line 739, in start\n\n  File \"/home/alvisngan/Documents/george_brown/math_dl/AASD4011_term_project/.venv/lib/python3.13/site-packages/tornado/platform/asyncio.py\", line 211, in start\n\n  File \"/usr/lib/python3.13/asyncio/base_events.py\", line 683, in run_forever\n\n  File \"/usr/lib/python3.13/asyncio/base_events.py\", line 2050, in _run_once\n\n  File \"/usr/lib/python3.13/asyncio/events.py\", line 89, in _run\n\n  File \"/home/alvisngan/Documents/george_brown/math_dl/AASD4011_term_project/.venv/lib/python3.13/site-packages/ipykernel/kernelbase.py\", line 519, in dispatch_queue\n\n  File \"/home/alvisngan/Documents/george_brown/math_dl/AASD4011_term_project/.venv/lib/python3.13/site-packages/ipykernel/kernelbase.py\", line 508, in process_one\n\n  File \"/home/alvisngan/Documents/george_brown/math_dl/AASD4011_term_project/.venv/lib/python3.13/site-packages/ipykernel/kernelbase.py\", line 400, in dispatch_shell\n\n  File \"/home/alvisngan/Documents/george_brown/math_dl/AASD4011_term_project/.venv/lib/python3.13/site-packages/ipykernel/ipkernel.py\", line 368, in execute_request\n\n  File \"/home/alvisngan/Documents/george_brown/math_dl/AASD4011_term_project/.venv/lib/python3.13/site-packages/ipykernel/kernelbase.py\", line 767, in execute_request\n\n  File \"/home/alvisngan/Documents/george_brown/math_dl/AASD4011_term_project/.venv/lib/python3.13/site-packages/ipykernel/ipkernel.py\", line 455, in do_execute\n\n  File \"/home/alvisngan/Documents/george_brown/math_dl/AASD4011_term_project/.venv/lib/python3.13/site-packages/ipykernel/zmqshell.py\", line 577, in run_cell\n\n  File \"/home/alvisngan/Documents/george_brown/math_dl/AASD4011_term_project/.venv/lib/python3.13/site-packages/IPython/core/interactiveshell.py\", line 3116, in run_cell\n\n  File \"/home/alvisngan/Documents/george_brown/math_dl/AASD4011_term_project/.venv/lib/python3.13/site-packages/IPython/core/interactiveshell.py\", line 3171, in _run_cell\n\n  File \"/home/alvisngan/Documents/george_brown/math_dl/AASD4011_term_project/.venv/lib/python3.13/site-packages/IPython/core/async_helpers.py\", line 128, in _pseudo_sync_runner\n\n  File \"/home/alvisngan/Documents/george_brown/math_dl/AASD4011_term_project/.venv/lib/python3.13/site-packages/IPython/core/interactiveshell.py\", line 3394, in run_cell_async\n\n  File \"/home/alvisngan/Documents/george_brown/math_dl/AASD4011_term_project/.venv/lib/python3.13/site-packages/IPython/core/interactiveshell.py\", line 3639, in run_ast_nodes\n\n  File \"/home/alvisngan/Documents/george_brown/math_dl/AASD4011_term_project/.venv/lib/python3.13/site-packages/IPython/core/interactiveshell.py\", line 3699, in run_code\n\n  File \"/tmp/ipykernel_3505/1792240866.py\", line 7, in <module>\n\n  File \"/home/alvisngan/Documents/george_brown/math_dl/AASD4011_term_project/.venv/lib/python3.13/site-packages/keras/src/utils/traceback_utils.py\", line 117, in error_handler\n\n  File \"/home/alvisngan/Documents/george_brown/math_dl/AASD4011_term_project/.venv/lib/python3.13/site-packages/keras/src/backend/tensorflow/trainer.py\", line 377, in fit\n\n  File \"/home/alvisngan/Documents/george_brown/math_dl/AASD4011_term_project/.venv/lib/python3.13/site-packages/keras/src/backend/tensorflow/trainer.py\", line 220, in function\n\n  File \"/home/alvisngan/Documents/george_brown/math_dl/AASD4011_term_project/.venv/lib/python3.13/site-packages/keras/src/backend/tensorflow/trainer.py\", line 133, in multi_step_on_iterator\n\n  File \"/home/alvisngan/Documents/george_brown/math_dl/AASD4011_term_project/.venv/lib/python3.13/site-packages/keras/src/backend/tensorflow/trainer.py\", line 114, in one_step_on_data\n\n  File \"/home/alvisngan/Documents/george_brown/math_dl/AASD4011_term_project/.venv/lib/python3.13/site-packages/keras/src/backend/tensorflow/trainer.py\", line 58, in train_step\n\n  File \"/home/alvisngan/Documents/george_brown/math_dl/AASD4011_term_project/.venv/lib/python3.13/site-packages/keras/src/utils/traceback_utils.py\", line 117, in error_handler\n\n  File \"/home/alvisngan/Documents/george_brown/math_dl/AASD4011_term_project/.venv/lib/python3.13/site-packages/keras/src/layers/layer.py\", line 941, in __call__\n\n  File \"/home/alvisngan/Documents/george_brown/math_dl/AASD4011_term_project/.venv/lib/python3.13/site-packages/keras/src/utils/traceback_utils.py\", line 117, in error_handler\n\n  File \"/home/alvisngan/Documents/george_brown/math_dl/AASD4011_term_project/.venv/lib/python3.13/site-packages/keras/src/ops/operation.py\", line 59, in __call__\n\n  File \"/home/alvisngan/Documents/george_brown/math_dl/AASD4011_term_project/.venv/lib/python3.13/site-packages/keras/src/utils/traceback_utils.py\", line 156, in error_handler\n\n  File \"/home/alvisngan/Documents/george_brown/math_dl/AASD4011_term_project/.venv/lib/python3.13/site-packages/keras/src/models/sequential.py\", line 220, in call\n\n  File \"/home/alvisngan/Documents/george_brown/math_dl/AASD4011_term_project/.venv/lib/python3.13/site-packages/keras/src/models/functional.py\", line 183, in call\n\n  File \"/home/alvisngan/Documents/george_brown/math_dl/AASD4011_term_project/.venv/lib/python3.13/site-packages/keras/src/ops/function.py\", line 206, in _run_through_graph\n\n  File \"/home/alvisngan/Documents/george_brown/math_dl/AASD4011_term_project/.venv/lib/python3.13/site-packages/keras/src/models/functional.py\", line 644, in call\n\n  File \"/home/alvisngan/Documents/george_brown/math_dl/AASD4011_term_project/.venv/lib/python3.13/site-packages/keras/src/utils/traceback_utils.py\", line 117, in error_handler\n\n  File \"/home/alvisngan/Documents/george_brown/math_dl/AASD4011_term_project/.venv/lib/python3.13/site-packages/keras/src/layers/layer.py\", line 941, in __call__\n\n  File \"/home/alvisngan/Documents/george_brown/math_dl/AASD4011_term_project/.venv/lib/python3.13/site-packages/keras/src/utils/traceback_utils.py\", line 117, in error_handler\n\n  File \"/home/alvisngan/Documents/george_brown/math_dl/AASD4011_term_project/.venv/lib/python3.13/site-packages/keras/src/ops/operation.py\", line 59, in __call__\n\n  File \"/home/alvisngan/Documents/george_brown/math_dl/AASD4011_term_project/.venv/lib/python3.13/site-packages/keras/src/utils/traceback_utils.py\", line 156, in error_handler\n\n  File \"/home/alvisngan/Documents/george_brown/math_dl/AASD4011_term_project/.venv/lib/python3.13/site-packages/keras/src/layers/rnn/lstm.py\", line 583, in call\n\n  File \"/home/alvisngan/Documents/george_brown/math_dl/AASD4011_term_project/.venv/lib/python3.13/site-packages/keras/src/layers/rnn/rnn.py\", line 406, in call\n\n  File \"/home/alvisngan/Documents/george_brown/math_dl/AASD4011_term_project/.venv/lib/python3.13/site-packages/keras/src/layers/rnn/lstm.py\", line 550, in inner_loop\n\n  File \"/home/alvisngan/Documents/george_brown/math_dl/AASD4011_term_project/.venv/lib/python3.13/site-packages/keras/src/backend/tensorflow/rnn.py\", line 841, in lstm\n\n  File \"/home/alvisngan/Documents/george_brown/math_dl/AASD4011_term_project/.venv/lib/python3.13/site-packages/keras/src/backend/tensorflow/rnn.py\", line 933, in _cudnn_lstm\n\nFailed to call DoRnnForward with model config: [rnn_mode, rnn_input_mode, rnn_direction_mode]: 2, 0, 0 , [num_layers, input_size, num_units, dir_count, max_seq_length, batch_size, cell_num_units]: [1, 256, 1024, 1, 20, 128, 1024] \n\t [[{{node sequential_1_1/lstm_2_1/CudnnRNNV3}}]] [Op:__inference_multi_step_on_iterator_6374]",
     "output_type": "error",
     "traceback": [
      "\u001b[31m---------------------------------------------------------------------------\u001b[39m",
      "\u001b[31mInternalError\u001b[39m                             Traceback (most recent call last)",
      "\u001b[36mCell\u001b[39m\u001b[36m \u001b[39m\u001b[32mIn[16]\u001b[39m\u001b[32m, line 7\u001b[39m\n\u001b[32m      3\u001b[39m y_train_np = np.array(y_train)\n\u001b[32m      6\u001b[39m \u001b[38;5;66;03m# Train the model and save the training history\u001b[39;00m\n\u001b[32m----> \u001b[39m\u001b[32m7\u001b[39m history = \u001b[43mmodel\u001b[49m\u001b[43m.\u001b[49m\u001b[43mfit\u001b[49m\u001b[43m(\u001b[49m\n\u001b[32m      8\u001b[39m \u001b[43m    \u001b[49m\u001b[43mx_train_np\u001b[49m\u001b[43m,\u001b[49m\n\u001b[32m      9\u001b[39m \u001b[43m    \u001b[49m\u001b[43my_train_np\u001b[49m\u001b[43m,\u001b[49m\n\u001b[32m     10\u001b[39m \u001b[43m    \u001b[49m\u001b[43mepochs\u001b[49m\u001b[43m=\u001b[49m\u001b[32;43m10\u001b[39;49m\u001b[43m,\u001b[49m\n\u001b[32m     11\u001b[39m \u001b[43m    \u001b[49m\u001b[43mbatch_size\u001b[49m\u001b[43m=\u001b[49m\u001b[32;43m128\u001b[39;49m\n\u001b[32m     12\u001b[39m \u001b[43m)\u001b[49m\n\u001b[32m     14\u001b[39m \u001b[38;5;66;03m# Save the trained model\u001b[39;00m\n\u001b[32m     15\u001b[39m model.save(\u001b[33mf\u001b[39m\u001b[33m\"\u001b[39m\u001b[38;5;132;01m{\u001b[39;00mbase_corpus\u001b[38;5;132;01m}\u001b[39;00m\u001b[33m_model.keras\u001b[39m\u001b[33m\"\u001b[39m)\n",
      "\u001b[36mFile \u001b[39m\u001b[32m~/Documents/george_brown/math_dl/AASD4011_term_project/.venv/lib/python3.13/site-packages/keras/src/utils/traceback_utils.py:122\u001b[39m, in \u001b[36mfilter_traceback.<locals>.error_handler\u001b[39m\u001b[34m(*args, **kwargs)\u001b[39m\n\u001b[32m    119\u001b[39m     filtered_tb = _process_traceback_frames(e.__traceback__)\n\u001b[32m    120\u001b[39m     \u001b[38;5;66;03m# To get the full stack trace, call:\u001b[39;00m\n\u001b[32m    121\u001b[39m     \u001b[38;5;66;03m# `keras.config.disable_traceback_filtering()`\u001b[39;00m\n\u001b[32m--> \u001b[39m\u001b[32m122\u001b[39m     \u001b[38;5;28;01mraise\u001b[39;00m e.with_traceback(filtered_tb) \u001b[38;5;28;01mfrom\u001b[39;00m\u001b[38;5;250m \u001b[39m\u001b[38;5;28;01mNone\u001b[39;00m\n\u001b[32m    123\u001b[39m \u001b[38;5;28;01mfinally\u001b[39;00m:\n\u001b[32m    124\u001b[39m     \u001b[38;5;28;01mdel\u001b[39;00m filtered_tb\n",
      "\u001b[36mFile \u001b[39m\u001b[32m~/Documents/george_brown/math_dl/AASD4011_term_project/.venv/lib/python3.13/site-packages/tensorflow/python/eager/execute.py:53\u001b[39m, in \u001b[36mquick_execute\u001b[39m\u001b[34m(op_name, num_outputs, inputs, attrs, ctx, name)\u001b[39m\n\u001b[32m     51\u001b[39m \u001b[38;5;28;01mtry\u001b[39;00m:\n\u001b[32m     52\u001b[39m   ctx.ensure_initialized()\n\u001b[32m---> \u001b[39m\u001b[32m53\u001b[39m   tensors = pywrap_tfe.TFE_Py_Execute(ctx._handle, device_name, op_name,\n\u001b[32m     54\u001b[39m                                       inputs, attrs, num_outputs)\n\u001b[32m     55\u001b[39m \u001b[38;5;28;01mexcept\u001b[39;00m core._NotOkStatusException \u001b[38;5;28;01mas\u001b[39;00m e:\n\u001b[32m     56\u001b[39m   \u001b[38;5;28;01mif\u001b[39;00m name \u001b[38;5;129;01mis\u001b[39;00m \u001b[38;5;129;01mnot\u001b[39;00m \u001b[38;5;28;01mNone\u001b[39;00m:\n",
      "\u001b[31mInternalError\u001b[39m: Graph execution error:\n\nDetected at node sequential_1_1/lstm_2_1/CudnnRNNV3 defined at (most recent call last):\n  File \"<frozen runpy>\", line 198, in _run_module_as_main\n\n  File \"<frozen runpy>\", line 88, in _run_code\n\n  File \"/home/alvisngan/Documents/george_brown/math_dl/AASD4011_term_project/.venv/lib/python3.13/site-packages/ipykernel_launcher.py\", line 18, in <module>\n\n  File \"/home/alvisngan/Documents/george_brown/math_dl/AASD4011_term_project/.venv/lib/python3.13/site-packages/traitlets/config/application.py\", line 1075, in launch_instance\n\n  File \"/home/alvisngan/Documents/george_brown/math_dl/AASD4011_term_project/.venv/lib/python3.13/site-packages/ipykernel/kernelapp.py\", line 739, in start\n\n  File \"/home/alvisngan/Documents/george_brown/math_dl/AASD4011_term_project/.venv/lib/python3.13/site-packages/tornado/platform/asyncio.py\", line 211, in start\n\n  File \"/usr/lib/python3.13/asyncio/base_events.py\", line 683, in run_forever\n\n  File \"/usr/lib/python3.13/asyncio/base_events.py\", line 2050, in _run_once\n\n  File \"/usr/lib/python3.13/asyncio/events.py\", line 89, in _run\n\n  File \"/home/alvisngan/Documents/george_brown/math_dl/AASD4011_term_project/.venv/lib/python3.13/site-packages/ipykernel/kernelbase.py\", line 519, in dispatch_queue\n\n  File \"/home/alvisngan/Documents/george_brown/math_dl/AASD4011_term_project/.venv/lib/python3.13/site-packages/ipykernel/kernelbase.py\", line 508, in process_one\n\n  File \"/home/alvisngan/Documents/george_brown/math_dl/AASD4011_term_project/.venv/lib/python3.13/site-packages/ipykernel/kernelbase.py\", line 400, in dispatch_shell\n\n  File \"/home/alvisngan/Documents/george_brown/math_dl/AASD4011_term_project/.venv/lib/python3.13/site-packages/ipykernel/ipkernel.py\", line 368, in execute_request\n\n  File \"/home/alvisngan/Documents/george_brown/math_dl/AASD4011_term_project/.venv/lib/python3.13/site-packages/ipykernel/kernelbase.py\", line 767, in execute_request\n\n  File \"/home/alvisngan/Documents/george_brown/math_dl/AASD4011_term_project/.venv/lib/python3.13/site-packages/ipykernel/ipkernel.py\", line 455, in do_execute\n\n  File \"/home/alvisngan/Documents/george_brown/math_dl/AASD4011_term_project/.venv/lib/python3.13/site-packages/ipykernel/zmqshell.py\", line 577, in run_cell\n\n  File \"/home/alvisngan/Documents/george_brown/math_dl/AASD4011_term_project/.venv/lib/python3.13/site-packages/IPython/core/interactiveshell.py\", line 3116, in run_cell\n\n  File \"/home/alvisngan/Documents/george_brown/math_dl/AASD4011_term_project/.venv/lib/python3.13/site-packages/IPython/core/interactiveshell.py\", line 3171, in _run_cell\n\n  File \"/home/alvisngan/Documents/george_brown/math_dl/AASD4011_term_project/.venv/lib/python3.13/site-packages/IPython/core/async_helpers.py\", line 128, in _pseudo_sync_runner\n\n  File \"/home/alvisngan/Documents/george_brown/math_dl/AASD4011_term_project/.venv/lib/python3.13/site-packages/IPython/core/interactiveshell.py\", line 3394, in run_cell_async\n\n  File \"/home/alvisngan/Documents/george_brown/math_dl/AASD4011_term_project/.venv/lib/python3.13/site-packages/IPython/core/interactiveshell.py\", line 3639, in run_ast_nodes\n\n  File \"/home/alvisngan/Documents/george_brown/math_dl/AASD4011_term_project/.venv/lib/python3.13/site-packages/IPython/core/interactiveshell.py\", line 3699, in run_code\n\n  File \"/tmp/ipykernel_3505/1792240866.py\", line 7, in <module>\n\n  File \"/home/alvisngan/Documents/george_brown/math_dl/AASD4011_term_project/.venv/lib/python3.13/site-packages/keras/src/utils/traceback_utils.py\", line 117, in error_handler\n\n  File \"/home/alvisngan/Documents/george_brown/math_dl/AASD4011_term_project/.venv/lib/python3.13/site-packages/keras/src/backend/tensorflow/trainer.py\", line 377, in fit\n\n  File \"/home/alvisngan/Documents/george_brown/math_dl/AASD4011_term_project/.venv/lib/python3.13/site-packages/keras/src/backend/tensorflow/trainer.py\", line 220, in function\n\n  File \"/home/alvisngan/Documents/george_brown/math_dl/AASD4011_term_project/.venv/lib/python3.13/site-packages/keras/src/backend/tensorflow/trainer.py\", line 133, in multi_step_on_iterator\n\n  File \"/home/alvisngan/Documents/george_brown/math_dl/AASD4011_term_project/.venv/lib/python3.13/site-packages/keras/src/backend/tensorflow/trainer.py\", line 114, in one_step_on_data\n\n  File \"/home/alvisngan/Documents/george_brown/math_dl/AASD4011_term_project/.venv/lib/python3.13/site-packages/keras/src/backend/tensorflow/trainer.py\", line 58, in train_step\n\n  File \"/home/alvisngan/Documents/george_brown/math_dl/AASD4011_term_project/.venv/lib/python3.13/site-packages/keras/src/utils/traceback_utils.py\", line 117, in error_handler\n\n  File \"/home/alvisngan/Documents/george_brown/math_dl/AASD4011_term_project/.venv/lib/python3.13/site-packages/keras/src/layers/layer.py\", line 941, in __call__\n\n  File \"/home/alvisngan/Documents/george_brown/math_dl/AASD4011_term_project/.venv/lib/python3.13/site-packages/keras/src/utils/traceback_utils.py\", line 117, in error_handler\n\n  File \"/home/alvisngan/Documents/george_brown/math_dl/AASD4011_term_project/.venv/lib/python3.13/site-packages/keras/src/ops/operation.py\", line 59, in __call__\n\n  File \"/home/alvisngan/Documents/george_brown/math_dl/AASD4011_term_project/.venv/lib/python3.13/site-packages/keras/src/utils/traceback_utils.py\", line 156, in error_handler\n\n  File \"/home/alvisngan/Documents/george_brown/math_dl/AASD4011_term_project/.venv/lib/python3.13/site-packages/keras/src/models/sequential.py\", line 220, in call\n\n  File \"/home/alvisngan/Documents/george_brown/math_dl/AASD4011_term_project/.venv/lib/python3.13/site-packages/keras/src/models/functional.py\", line 183, in call\n\n  File \"/home/alvisngan/Documents/george_brown/math_dl/AASD4011_term_project/.venv/lib/python3.13/site-packages/keras/src/ops/function.py\", line 206, in _run_through_graph\n\n  File \"/home/alvisngan/Documents/george_brown/math_dl/AASD4011_term_project/.venv/lib/python3.13/site-packages/keras/src/models/functional.py\", line 644, in call\n\n  File \"/home/alvisngan/Documents/george_brown/math_dl/AASD4011_term_project/.venv/lib/python3.13/site-packages/keras/src/utils/traceback_utils.py\", line 117, in error_handler\n\n  File \"/home/alvisngan/Documents/george_brown/math_dl/AASD4011_term_project/.venv/lib/python3.13/site-packages/keras/src/layers/layer.py\", line 941, in __call__\n\n  File \"/home/alvisngan/Documents/george_brown/math_dl/AASD4011_term_project/.venv/lib/python3.13/site-packages/keras/src/utils/traceback_utils.py\", line 117, in error_handler\n\n  File \"/home/alvisngan/Documents/george_brown/math_dl/AASD4011_term_project/.venv/lib/python3.13/site-packages/keras/src/ops/operation.py\", line 59, in __call__\n\n  File \"/home/alvisngan/Documents/george_brown/math_dl/AASD4011_term_project/.venv/lib/python3.13/site-packages/keras/src/utils/traceback_utils.py\", line 156, in error_handler\n\n  File \"/home/alvisngan/Documents/george_brown/math_dl/AASD4011_term_project/.venv/lib/python3.13/site-packages/keras/src/layers/rnn/lstm.py\", line 583, in call\n\n  File \"/home/alvisngan/Documents/george_brown/math_dl/AASD4011_term_project/.venv/lib/python3.13/site-packages/keras/src/layers/rnn/rnn.py\", line 406, in call\n\n  File \"/home/alvisngan/Documents/george_brown/math_dl/AASD4011_term_project/.venv/lib/python3.13/site-packages/keras/src/layers/rnn/lstm.py\", line 550, in inner_loop\n\n  File \"/home/alvisngan/Documents/george_brown/math_dl/AASD4011_term_project/.venv/lib/python3.13/site-packages/keras/src/backend/tensorflow/rnn.py\", line 841, in lstm\n\n  File \"/home/alvisngan/Documents/george_brown/math_dl/AASD4011_term_project/.venv/lib/python3.13/site-packages/keras/src/backend/tensorflow/rnn.py\", line 933, in _cudnn_lstm\n\nFailed to call DoRnnForward with model config: [rnn_mode, rnn_input_mode, rnn_direction_mode]: 2, 0, 0 , [num_layers, input_size, num_units, dir_count, max_seq_length, batch_size, cell_num_units]: [1, 256, 1024, 1, 20, 128, 1024] \n\t [[{{node sequential_1_1/lstm_2_1/CudnnRNNV3}}]] [Op:__inference_multi_step_on_iterator_6374]"
     ]
    }
   ],
   "source": [
    "# # Convert training lists to numpy arrays\n",
    "# x_train_np = np.array(X_train)\n",
    "# y_train_np = np.array(y_train)\n",
    "\n",
    "\n",
    "# # Train the model and save the training history\n",
    "# history = model.fit(\n",
    "#     x_train_np,\n",
    "#     y_train_np,\n",
    "#     epochs=10,\n",
    "#     batch_size=128\n",
    "# )\n",
    "\n",
    "# # Save the trained model\n",
    "# model.save(f\"{base_corpus}_model.keras\")\n",
    "\n",
    "# #Save the training history to subdirectory\n",
    "# with open(f\"{base_corpus}_training_history.pkl\", \"wb\") as f:\n",
    "#     pickle.dump(history.history, f)"
   ]
  },
  {
   "cell_type": "code",
   "execution_count": 24,
   "id": "c94f2d6c",
   "metadata": {},
   "outputs": [
    {
     "ename": "FileNotFoundError",
     "evalue": "[Errno 2] No such file or directory: 'model_0_shakespeare/shakespeare_training_history.pkl'",
     "output_type": "error",
     "traceback": [
      "\u001b[31m---------------------------------------------------------------------------\u001b[39m",
      "\u001b[31mFileNotFoundError\u001b[39m                         Traceback (most recent call last)",
      "\u001b[36mCell\u001b[39m\u001b[36m \u001b[39m\u001b[32mIn[24]\u001b[39m\u001b[32m, line 5\u001b[39m\n\u001b[32m      2\u001b[39m \u001b[38;5;28;01mimport\u001b[39;00m\u001b[38;5;250m \u001b[39m\u001b[34;01mmatplotlib\u001b[39;00m\u001b[34;01m.\u001b[39;00m\u001b[34;01mpyplot\u001b[39;00m\u001b[38;5;250m \u001b[39m\u001b[38;5;28;01mas\u001b[39;00m\u001b[38;5;250m \u001b[39m\u001b[34;01mplt\u001b[39;00m\n\u001b[32m      4\u001b[39m \u001b[38;5;66;03m#load history file from subdirectory\u001b[39;00m\n\u001b[32m----> \u001b[39m\u001b[32m5\u001b[39m \u001b[38;5;28;01mwith\u001b[39;00m \u001b[38;5;28;43mopen\u001b[39;49m\u001b[43m(\u001b[49m\u001b[33;43mf\u001b[39;49m\u001b[33;43m\"\u001b[39;49m\u001b[38;5;132;43;01m{\u001b[39;49;00m\u001b[38;5;28;43mdir\u001b[39;49m\u001b[38;5;132;43;01m}\u001b[39;49;00m\u001b[33;43m/\u001b[39;49m\u001b[38;5;132;43;01m{\u001b[39;49;00m\u001b[43mbase_corpus\u001b[49m\u001b[38;5;132;43;01m}\u001b[39;49;00m\u001b[33;43m_training_history.pkl\u001b[39;49m\u001b[33;43m\"\u001b[39;49m\u001b[43m,\u001b[49m\u001b[43m \u001b[49m\u001b[33;43m\"\u001b[39;49m\u001b[33;43mrb\u001b[39;49m\u001b[33;43m\"\u001b[39;49m\u001b[43m)\u001b[49m \u001b[38;5;28;01mas\u001b[39;00m f:\n\u001b[32m      6\u001b[39m     history = pickle.load(f)\n\u001b[32m      8\u001b[39m \u001b[38;5;66;03m#Y-axis limit for loss plot\u001b[39;00m\n",
      "\u001b[36mFile \u001b[39m\u001b[32m~/Documents/george_brown/math_dl/AASD4011_term_project/.venv/lib/python3.13/site-packages/IPython/core/interactiveshell.py:343\u001b[39m, in \u001b[36m_modified_open\u001b[39m\u001b[34m(file, *args, **kwargs)\u001b[39m\n\u001b[32m    336\u001b[39m \u001b[38;5;28;01mif\u001b[39;00m file \u001b[38;5;129;01min\u001b[39;00m {\u001b[32m0\u001b[39m, \u001b[32m1\u001b[39m, \u001b[32m2\u001b[39m}:\n\u001b[32m    337\u001b[39m     \u001b[38;5;28;01mraise\u001b[39;00m \u001b[38;5;167;01mValueError\u001b[39;00m(\n\u001b[32m    338\u001b[39m         \u001b[33mf\u001b[39m\u001b[33m\"\u001b[39m\u001b[33mIPython won\u001b[39m\u001b[33m'\u001b[39m\u001b[33mt let you open fd=\u001b[39m\u001b[38;5;132;01m{\u001b[39;00mfile\u001b[38;5;132;01m}\u001b[39;00m\u001b[33m by default \u001b[39m\u001b[33m\"\u001b[39m\n\u001b[32m    339\u001b[39m         \u001b[33m\"\u001b[39m\u001b[33mas it is likely to crash IPython. If you know what you are doing, \u001b[39m\u001b[33m\"\u001b[39m\n\u001b[32m    340\u001b[39m         \u001b[33m\"\u001b[39m\u001b[33myou can use builtins\u001b[39m\u001b[33m'\u001b[39m\u001b[33m open.\u001b[39m\u001b[33m\"\u001b[39m\n\u001b[32m    341\u001b[39m     )\n\u001b[32m--> \u001b[39m\u001b[32m343\u001b[39m \u001b[38;5;28;01mreturn\u001b[39;00m \u001b[43mio_open\u001b[49m\u001b[43m(\u001b[49m\u001b[43mfile\u001b[49m\u001b[43m,\u001b[49m\u001b[43m \u001b[49m\u001b[43m*\u001b[49m\u001b[43margs\u001b[49m\u001b[43m,\u001b[49m\u001b[43m \u001b[49m\u001b[43m*\u001b[49m\u001b[43m*\u001b[49m\u001b[43mkwargs\u001b[49m\u001b[43m)\u001b[49m\n",
      "\u001b[31mFileNotFoundError\u001b[39m: [Errno 2] No such file or directory: 'model_0_shakespeare/shakespeare_training_history.pkl'"
     ]
    }
   ],
   "source": [
    "#display history\n",
    "import matplotlib.pyplot as plt\n",
    "\n",
    "#load history file from subdirectory\n",
    "with open(f\"{dir}/{base_corpus}_training_history.pkl\", \"rb\") as f:\n",
    "    history = pickle.load(f)\n",
    "    \n",
    "#Y-axis limit for loss plot\n",
    "plt.ylim(0, np.ceil(max(history['loss'])))\n",
    "\n",
    "#Tile and labels\n",
    "plt.title(f'Training history for {base_corpus.capitalize()} Model')\n",
    "plt.xlabel('Epoch')\n",
    "plt.ylabel('Loss')\n",
    "plt.plot(history['loss'], label='loss')"
   ]
  },
  {
   "cell_type": "code",
   "execution_count": null,
   "id": "87b14bea",
   "metadata": {},
   "outputs": [],
   "source": []
  }
 ],
 "metadata": {
  "kernelspec": {
   "display_name": ".venv (3.11.13)",
   "language": "python",
   "name": "python3"
  },
  "language_info": {
   "codemirror_mode": {
    "name": "ipython",
    "version": 3
   },
   "file_extension": ".py",
   "mimetype": "text/x-python",
   "name": "python",
   "nbconvert_exporter": "python",
   "pygments_lexer": "ipython3",
   "version": "3.13.7"
  }
 },
 "nbformat": 4,
 "nbformat_minor": 5
}
