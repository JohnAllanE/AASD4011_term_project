{
 "cells": [
  {
   "cell_type": "code",
   "execution_count": 1,
   "id": "21c98985",
   "metadata": {},
   "outputs": [
    {
     "name": "stderr",
     "output_type": "stream",
     "text": [
      "2025-09-14 08:08:07.614697: I tensorflow/core/platform/cpu_feature_guard.cc:210] This TensorFlow binary is optimized to use available CPU instructions in performance-critical operations.\n",
      "To enable the following instructions: AVX2 FMA, in other operations, rebuild TensorFlow with the appropriate compiler flags.\n"
     ]
    }
   ],
   "source": [
    "from tensorflow.keras.models import load_model\n",
    "import numpy as np\n",
    "import json\n",
    "import pickle"
   ]
  },
  {
   "cell_type": "code",
   "execution_count": 5,
   "id": "1a8879b8",
   "metadata": {},
   "outputs": [],
   "source": [
    "# Load the trained Keras model from the .keras file\n",
    "base_argument = \"shakespeare\"\n",
    "model = load_model(f'{base_argument}_model.keras')\n",
    "\n",
    "\n",
    "# Load the vocabulary mappings\n",
    "with open(f'{base_argument}_word_to_id.json', 'r') as f:\n",
    "    word_to_id = json.load(f)\n",
    "\n",
    "# The id_to_word dictionary can be created from word_to_id\n",
    "id_to_word = {v: k for k, v in word_to_id.items()}\n",
    "\n",
    "# Load max_seq_length from pkl file\n",
    "preprocessed_data = pickle.load(open(f'{base_argument}_preprocessed_data.pkl', 'rb'))\n",
    "max_seq_length = preprocessed_data['max_seq_length']"
   ]
  },
  {
   "cell_type": "code",
   "execution_count": 6,
   "id": "bc6863e3",
   "metadata": {},
   "outputs": [],
   "source": [
    "def generate_text(model, seed_text, num_words_to_generate, word_to_id, id_to_word, max_seq_length):\n",
    "    # Pre-process the seed text\n",
    "    # It must be in the same format as your training data: lowercase and numerical\n",
    "    processed_seed = [word_to_id.get(word.lower(), word_to_id['<UNK>']) for word in seed_text.split()]\n",
    "    \n",
    "    generated_text = seed_text\n",
    "    \n",
    "    for _ in range(num_words_to_generate):\n",
    "        # Pad the input sequence to the required length\n",
    "        padded_sequence = np.array(processed_seed[-max_seq_length:] + [word_to_id['<PAD>']] * (max_seq_length - len(processed_seed[-max_seq_length:])))\n",
    "        \n",
    "        # Reshape for the model's input layer\n",
    "        padded_sequence = padded_sequence.reshape(1, max_seq_length)\n",
    "        \n",
    "        # Get the model's prediction\n",
    "        # The output is a probability distribution over the entire vocabulary\n",
    "        predictions = model.predict(padded_sequence, verbose=0)[0]\n",
    "        \n",
    "        # Sample the next word from the distribution\n",
    "        # This is a key step to make the output more varied and creative\n",
    "        predicted_id = np.random.choice(len(predictions), p=predictions)\n",
    "        \n",
    "        # Convert the integer ID back to a word\n",
    "        predicted_word = id_to_word[predicted_id]\n",
    "        \n",
    "        # Stop generation if the end-of-sentence token is predicted\n",
    "        if predicted_word == '<EOS>':\n",
    "            break\n",
    "            \n",
    "        generated_text += \" \" + predicted_word\n",
    "        processed_seed.append(predicted_id)\n",
    "\n",
    "    return generated_text"
   ]
  },
  {
   "cell_type": "code",
   "execution_count": 23,
   "id": "2184eae0",
   "metadata": {},
   "outputs": [
    {
     "name": "stdout",
     "output_type": "stream",
     "text": [
      "Yesterday I saw a hand\n",
      "Yesterday I saw a bill\n",
      "Yesterday I saw a gown\n",
      "Yesterday I saw a banquet\n",
      "Yesterday I saw a book\n",
      "Yesterday I saw a bill\n",
      "Yesterday I saw a garter\n",
      "Yesterday I saw a gown\n",
      "Yesterday I saw a tent\n",
      "Yesterday I saw a chamber\n"
     ]
    }
   ],
   "source": [
    "# Example usage\n",
    "seed_text = \"Yesterday I saw a\"\n",
    "\n",
    "\n",
    "for s in range(10):\n",
    "    generated_sentence = generate_text(model, seed_text, 50, word_to_id, id_to_word, max_seq_length)\n",
    "    print(generated_sentence)\n"
   ]
  },
  {
   "cell_type": "markdown",
   "id": "f2078059",
   "metadata": {},
   "source": [
    "# Decide approach?  Style transfer or text generation?\n",
    "    - TEXT GEN IT IS\n",
    "# Demo ideas\n",
    "    - Autocomplete with \"style\" options\n",
    "        -UI: Email window with \"style\" along with formatting options\n",
    "    - Link two words with generated text (not sure if possible)\n",
    "    - \n",
    "# Come up with styles (i.e. other options than \"shakespeare\") and collect documents/corpus and preprocess\n",
    "    # Single character (Hamlet)\n",
    "    # Speeches from politicians etc.\n",
    "# Create \"lite model\" that won't take 15 hours to train\n",
    "# Try tweaking models to improve result\n",
    "# Try training with other hardware?\n",
    "    # Local GPU\n",
    "    # Google Colab\n",
    "# Demo part - prototype with Streamlit with existing model\n",
    "    # Add in additional or different models later\n",
    "# Alternatives\n",
    "    # Preprocessing: use TensorFlow Tokenization instead of spaCy\n",
    "# Documenting / reporting\n",
    "# Metrics / assessment\n",
    "    # Accuracy? Confusion matrix? Others?\n",
    "# Distribute work for project (loosely)\n",
    "\n",
    "Things people are working on:\n",
    "\n",
    "San Francisco: styles, lite model, try training on own hardware?\n",
    "\n",
    "Alvis: working on DL1 instead, come up with styles\n",
    "\n",
    "JA: cleaning up and sharing existing code, lite model, tweaking models\n",
    "\n",
    "Khushi:\n",
    "\n",
    "Jacob:\n",
    "\n",
    "Hitakshi: sleep\n",
    "\n",
    "Everybody: Document/take notes on what you're doing for a report"
   ]
  },
  {
   "cell_type": "code",
   "execution_count": null,
   "id": "1b828fda",
   "metadata": {},
   "outputs": [],
   "source": [
    "\n"
   ]
  }
 ],
 "metadata": {
  "kernelspec": {
   "display_name": "mDL1",
   "language": "python",
   "name": "python3"
  },
  "language_info": {
   "codemirror_mode": {
    "name": "ipython",
    "version": 3
   },
   "file_extension": ".py",
   "mimetype": "text/x-python",
   "name": "python",
   "nbconvert_exporter": "python",
   "pygments_lexer": "ipython3",
   "version": "3.11.13"
  }
 },
 "nbformat": 4,
 "nbformat_minor": 5
}
