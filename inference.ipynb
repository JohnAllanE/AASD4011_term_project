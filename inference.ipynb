{
 "cells": [
  {
   "cell_type": "code",
   "execution_count": 1,
   "id": "21c98985",
   "metadata": {},
   "outputs": [
    {
     "name": "stderr",
     "output_type": "stream",
     "text": [
      "/Users/jare/Library/CloudStorage/GoogleDrive-johnallan.e@gmail.com/Other computers/My MacBook Pro/Applied AI Solutions/4011 - Math for DL 1/Project/.venv-inference/lib/python3.9/site-packages/urllib3/__init__.py:35: NotOpenSSLWarning: urllib3 v2 only supports OpenSSL 1.1.1+, currently the 'ssl' module is compiled with 'LibreSSL 2.8.3'. See: https://github.com/urllib3/urllib3/issues/3020\n",
      "  warnings.warn(\n"
     ]
    }
   ],
   "source": [
    "from tensorflow.keras.models import load_model\n",
    "import numpy as np\n",
    "import json\n",
    "import pickle"
   ]
  },
  {
   "cell_type": "code",
   "execution_count": 2,
   "id": "1a8879b8",
   "metadata": {},
   "outputs": [
    {
     "name": "stderr",
     "output_type": "stream",
     "text": [
      "2025-09-23 13:36:38.410762: I metal_plugin/src/device/metal_device.cc:1154] Metal device set to: Apple M4\n",
      "2025-09-23 13:36:38.410920: I metal_plugin/src/device/metal_device.cc:296] systemMemory: 16.00 GB\n",
      "2025-09-23 13:36:38.410926: I metal_plugin/src/device/metal_device.cc:313] maxCacheSize: 5.33 GB\n",
      "2025-09-23 13:36:38.410943: I tensorflow/core/common_runtime/pluggable_device/pluggable_device_factory.cc:305] Could not identify NUMA node of platform GPU ID 0, defaulting to 0. Your kernel may not have been built with NUMA support.\n",
      "2025-09-23 13:36:38.410953: I tensorflow/core/common_runtime/pluggable_device/pluggable_device_factory.cc:271] Created TensorFlow device (/job:localhost/replica:0/task:0/device:GPU:0 with 0 MB memory) -> physical PluggableDevice (device: 0, name: METAL, pci bus id: <undefined>)\n"
     ]
    }
   ],
   "source": [
    "# Load the trained Keras model from the .keras file\n",
    "base_argument = \"model_0_shakespeare/shakespeare\"\n",
    "model = load_model(f'{base_argument}_model.keras')\n",
    "\n",
    "# Load the vocabulary mappings\n",
    "with open(f'{base_argument}_word_to_id.json', 'r') as f:\n",
    "    word_to_id = json.load(f)\n",
    "\n",
    "# The id_to_word dictionary can be created from word_to_id\n",
    "id_to_word = {v: k for k, v in word_to_id.items()}\n",
    "\n",
    "# Load max_seq_length from pkl file\n",
    "preprocessed_data = pickle.load(open(f'{base_argument}_preprocessed_data.pkl', 'rb'))\n",
    "max_seq_length = preprocessed_data['max_seq_length']"
   ]
  },
  {
   "cell_type": "code",
   "execution_count": 3,
   "id": "bc6863e3",
   "metadata": {},
   "outputs": [],
   "source": [
    "def generate_text(model, seed_text, num_words_to_generate, word_to_id, id_to_word, max_seq_length):\n",
    "    # Pre-process the seed text\n",
    "    # It must be in the same format as your training data: lowercase and numerical\n",
    "    processed_seed = [word_to_id.get(word.lower(), word_to_id['<UNK>']) for word in seed_text.split()]\n",
    "    \n",
    "    generated_text = seed_text\n",
    "    \n",
    "    for _ in range(num_words_to_generate):\n",
    "        # Pad the input sequence to the required length\n",
    "        padded_sequence = np.array(processed_seed[-max_seq_length:] + [word_to_id['<PAD>']] * (max_seq_length - len(processed_seed[-max_seq_length:])))\n",
    "        \n",
    "        # Reshape for the model's input layer\n",
    "        padded_sequence = padded_sequence.reshape(1, max_seq_length)\n",
    "        \n",
    "        # Get the model's prediction\n",
    "        # The output is a probability distribution over the entire vocabulary\n",
    "        predictions = model.predict(padded_sequence, verbose=0)[0]\n",
    "        \n",
    "        # Sample the next word from the distribution\n",
    "        # This is a key step to make the output more varied and creative\n",
    "        predicted_id = np.random.choice(len(predictions), p=predictions)\n",
    "        \n",
    "        # Convert the integer ID back to a word\n",
    "        predicted_word = id_to_word[predicted_id]\n",
    "        \n",
    "        # Stop generation if the end-of-sentence token is predicted\n",
    "        if predicted_word == '<EOS>':\n",
    "            break\n",
    "            \n",
    "        generated_text += \" \" + predicted_word\n",
    "        processed_seed.append(predicted_id)\n",
    "\n",
    "    return generated_text"
   ]
  },
  {
   "cell_type": "code",
   "execution_count": 4,
   "id": "2184eae0",
   "metadata": {},
   "outputs": [
    {
     "name": "stderr",
     "output_type": "stream",
     "text": [
      "2025-09-23 13:36:39.801846: I tensorflow/core/grappler/optimizers/custom_graph_optimizer_registry.cc:117] Plugin optimizer for device_type GPU is enabled.\n"
     ]
    },
    {
     "name": "stdout",
     "output_type": "stream",
     "text": [
      "Yesterday I saw a bill\n",
      "Yesterday I saw a book\n",
      "Yesterday I saw a ship\n",
      "Yesterday I saw a bill\n",
      "Yesterday I saw a wit\n",
      "Yesterday I saw a bill\n",
      "Yesterday I saw a chain\n",
      "Yesterday I saw a book\n",
      "Yesterday I saw a book\n",
      "Yesterday I saw a lap\n"
     ]
    }
   ],
   "source": [
    "# Example usage\n",
    "seed_text = \"Yesterday I saw a\"\n",
    "\n",
    "for s in range(10):\n",
    "    generated_sentence = generate_text(model, seed_text, 50, word_to_id, id_to_word, max_seq_length)\n",
    "    print(generated_sentence)\n"
   ]
  },
  {
   "cell_type": "code",
   "execution_count": null,
   "id": "28470d4b",
   "metadata": {},
   "outputs": [],
   "source": []
  }
 ],
 "metadata": {
  "kernelspec": {
   "display_name": ".venv-inference (3.9.6)",
   "language": "python",
   "name": "python3"
  },
  "language_info": {
   "codemirror_mode": {
    "name": "ipython",
    "version": 3
   },
   "file_extension": ".py",
   "mimetype": "text/x-python",
   "name": "python",
   "nbconvert_exporter": "python",
   "pygments_lexer": "ipython3",
   "version": "3.9.6"
  }
 },
 "nbformat": 4,
 "nbformat_minor": 5
}
